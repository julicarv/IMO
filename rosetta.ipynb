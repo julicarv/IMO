{
 "cells": [
  {
   "cell_type": "code",
   "execution_count": 21,
   "id": "0b6f8adc",
   "metadata": {},
   "outputs": [],
   "source": [
    "import vars\n",
    "import models\n",
    "import dataFuns\n",
    "import fittingFuns\n",
    "import numpy as np\n",
    "import scipy as sp\n",
    "import seaborn as sns\n",
    "import matplotlib.pyplot as plt\n",
    "import lmfit\n",
    "import sys"
   ]
  },
  {
   "cell_type": "markdown",
   "id": "a6fd7ff8",
   "metadata": {},
   "source": [
    "### Fitting"
   ]
  },
  {
   "cell_type": "code",
   "execution_count": 22,
   "id": "bd229b5e-57b4-44c6-b779-67d681da9f96",
   "metadata": {},
   "outputs": [
    {
     "ename": "TypeError",
     "evalue": "argument for empty() given by name ('dtype') and position (position 1)",
     "output_type": "error",
     "traceback": [
      "\u001b[1;31m---------------------------------------------------------------------------\u001b[0m",
      "\u001b[1;31mTypeError\u001b[0m                                 Traceback (most recent call last)",
      "Cell \u001b[1;32mIn[22], line 5\u001b[0m\n\u001b[0;32m      1\u001b[0m \u001b[38;5;28;01mimport\u001b[39;00m \u001b[38;5;21;01mfittingFuns\u001b[39;00m\n\u001b[0;32m      3\u001b[0m optimiser_kws \u001b[38;5;241m=\u001b[39m {\u001b[38;5;124m'\u001b[39m\u001b[38;5;124mmethod\u001b[39m\u001b[38;5;124m'\u001b[39m:\u001b[38;5;124m'\u001b[39m\u001b[38;5;124mleast_squares\u001b[39m\u001b[38;5;124m'\u001b[39m, \u001b[38;5;124m'\u001b[39m\u001b[38;5;124mxtol\u001b[39m\u001b[38;5;124m'\u001b[39m:\u001b[38;5;241m1e-8\u001b[39m, \u001b[38;5;124m'\u001b[39m\u001b[38;5;124mftol\u001b[39m\u001b[38;5;124m'\u001b[39m:\u001b[38;5;241m1e-8\u001b[39m, \u001b[38;5;124m'\u001b[39m\u001b[38;5;124mmax_nfev\u001b[39m\u001b[38;5;124m'\u001b[39m:\u001b[38;5;241m200\u001b[39m,}\n\u001b[1;32m----> 5\u001b[0m fit_obj \u001b[38;5;241m=\u001b[39m lmfit\u001b[38;5;241m.\u001b[39mminimize(fittingFuns\u001b[38;5;241m.\u001b[39mresidual, \u001b[38;5;28mvars\u001b[39m\u001b[38;5;241m.\u001b[39mparams, args\u001b[38;5;241m=\u001b[39m(\u001b[38;5;28mvars\u001b[39m\u001b[38;5;241m.\u001b[39mn,), \u001b[38;5;241m*\u001b[39m\u001b[38;5;241m*\u001b[39moptimiser_kws)\n\u001b[0;32m      6\u001b[0m bestParams \u001b[38;5;241m=\u001b[39m fit_obj\u001b[38;5;241m.\u001b[39mparams\n",
      "File \u001b[1;32mc:\\Users\\carvj\\anaconda3\\envs\\rosetta_backend\\Lib\\site-packages\\lmfit\\minimizer.py:2601\u001b[0m, in \u001b[0;36mminimize\u001b[1;34m(fcn, params, method, args, kws, iter_cb, scale_covar, nan_policy, reduce_fcn, calc_covar, max_nfev, **fit_kws)\u001b[0m\n\u001b[0;32m   2461\u001b[0m \u001b[38;5;250m\u001b[39m\u001b[38;5;124;03m\"\"\"Perform the minimization of the objective function.\u001b[39;00m\n\u001b[0;32m   2462\u001b[0m \n\u001b[0;32m   2463\u001b[0m \u001b[38;5;124;03mThe minimize function takes an objective function to be minimized,\u001b[39;00m\n\u001b[1;32m   (...)\u001b[0m\n\u001b[0;32m   2595\u001b[0m \n\u001b[0;32m   2596\u001b[0m \u001b[38;5;124;03m\"\"\"\u001b[39;00m\n\u001b[0;32m   2597\u001b[0m fitter \u001b[38;5;241m=\u001b[39m Minimizer(fcn, params, fcn_args\u001b[38;5;241m=\u001b[39margs, fcn_kws\u001b[38;5;241m=\u001b[39mkws,\n\u001b[0;32m   2598\u001b[0m                    iter_cb\u001b[38;5;241m=\u001b[39miter_cb, scale_covar\u001b[38;5;241m=\u001b[39mscale_covar,\n\u001b[0;32m   2599\u001b[0m                    nan_policy\u001b[38;5;241m=\u001b[39mnan_policy, reduce_fcn\u001b[38;5;241m=\u001b[39mreduce_fcn,\n\u001b[0;32m   2600\u001b[0m                    calc_covar\u001b[38;5;241m=\u001b[39mcalc_covar, max_nfev\u001b[38;5;241m=\u001b[39mmax_nfev, \u001b[38;5;241m*\u001b[39m\u001b[38;5;241m*\u001b[39mfit_kws)\n\u001b[1;32m-> 2601\u001b[0m \u001b[38;5;28;01mreturn\u001b[39;00m fitter\u001b[38;5;241m.\u001b[39mminimize(method\u001b[38;5;241m=\u001b[39mmethod)\n",
      "File \u001b[1;32mc:\\Users\\carvj\\anaconda3\\envs\\rosetta_backend\\Lib\\site-packages\\lmfit\\minimizer.py:2345\u001b[0m, in \u001b[0;36mMinimizer.minimize\u001b[1;34m(self, method, params, **kws)\u001b[0m\n\u001b[0;32m   2342\u001b[0m         \u001b[38;5;28;01mif\u001b[39;00m (key\u001b[38;5;241m.\u001b[39mlower()\u001b[38;5;241m.\u001b[39mstartswith(user_method) \u001b[38;5;129;01mor\u001b[39;00m\n\u001b[0;32m   2343\u001b[0m                 val\u001b[38;5;241m.\u001b[39mlower()\u001b[38;5;241m.\u001b[39mstartswith(user_method)):\n\u001b[0;32m   2344\u001b[0m             kwargs[\u001b[38;5;124m'\u001b[39m\u001b[38;5;124mmethod\u001b[39m\u001b[38;5;124m'\u001b[39m] \u001b[38;5;241m=\u001b[39m val\n\u001b[1;32m-> 2345\u001b[0m \u001b[38;5;28;01mreturn\u001b[39;00m function(\u001b[38;5;241m*\u001b[39m\u001b[38;5;241m*\u001b[39mkwargs)\n",
      "File \u001b[1;32mc:\\Users\\carvj\\anaconda3\\envs\\rosetta_backend\\Lib\\site-packages\\lmfit\\minimizer.py:1541\u001b[0m, in \u001b[0;36mMinimizer.least_squares\u001b[1;34m(self, params, max_nfev, **kws)\u001b[0m\n\u001b[0;32m   1538\u001b[0m result\u001b[38;5;241m.\u001b[39mcall_kws \u001b[38;5;241m=\u001b[39m least_squares_kws\n\u001b[0;32m   1540\u001b[0m \u001b[38;5;28;01mtry\u001b[39;00m:\n\u001b[1;32m-> 1541\u001b[0m     ret \u001b[38;5;241m=\u001b[39m least_squares(\u001b[38;5;28mself\u001b[39m\u001b[38;5;241m.\u001b[39m__residual, start_vals,\n\u001b[0;32m   1542\u001b[0m                         bounds\u001b[38;5;241m=\u001b[39m(lower_bounds, upper_bounds),\n\u001b[0;32m   1543\u001b[0m                         \u001b[38;5;241m*\u001b[39m\u001b[38;5;241m*\u001b[39mleast_squares_kws)\n\u001b[0;32m   1544\u001b[0m     result\u001b[38;5;241m.\u001b[39mresidual \u001b[38;5;241m=\u001b[39m ret\u001b[38;5;241m.\u001b[39mfun\n\u001b[0;32m   1545\u001b[0m \u001b[38;5;28;01mexcept\u001b[39;00m AbortFitException:\n",
      "File \u001b[1;32mc:\\Users\\carvj\\anaconda3\\envs\\rosetta_backend\\Lib\\site-packages\\scipy\\optimize\\_lsq\\least_squares.py:832\u001b[0m, in \u001b[0;36mleast_squares\u001b[1;34m(fun, x0, jac, bounds, method, ftol, xtol, gtol, x_scale, loss, f_scale, diff_step, tr_solver, tr_options, jac_sparsity, max_nfev, verbose, args, kwargs)\u001b[0m\n\u001b[0;32m    829\u001b[0m \u001b[38;5;28;01mdef\u001b[39;00m \u001b[38;5;21mfun_wrapped\u001b[39m(x):\n\u001b[0;32m    830\u001b[0m     \u001b[38;5;28;01mreturn\u001b[39;00m np\u001b[38;5;241m.\u001b[39matleast_1d(fun(x, \u001b[38;5;241m*\u001b[39margs, \u001b[38;5;241m*\u001b[39m\u001b[38;5;241m*\u001b[39mkwargs))\n\u001b[1;32m--> 832\u001b[0m f0 \u001b[38;5;241m=\u001b[39m fun_wrapped(x0)\n\u001b[0;32m    834\u001b[0m \u001b[38;5;28;01mif\u001b[39;00m f0\u001b[38;5;241m.\u001b[39mndim \u001b[38;5;241m!=\u001b[39m \u001b[38;5;241m1\u001b[39m:\n\u001b[0;32m    835\u001b[0m     \u001b[38;5;28;01mraise\u001b[39;00m \u001b[38;5;167;01mValueError\u001b[39;00m(\u001b[38;5;124m\"\u001b[39m\u001b[38;5;124m`fun` must return at most 1-d array_like. \u001b[39m\u001b[38;5;124m\"\u001b[39m\n\u001b[0;32m    836\u001b[0m                      \u001b[38;5;124mf\u001b[39m\u001b[38;5;124m\"\u001b[39m\u001b[38;5;124mf0.shape: \u001b[39m\u001b[38;5;132;01m{\u001b[39;00mf0\u001b[38;5;241m.\u001b[39mshape\u001b[38;5;132;01m}\u001b[39;00m\u001b[38;5;124m\"\u001b[39m)\n",
      "File \u001b[1;32mc:\\Users\\carvj\\anaconda3\\envs\\rosetta_backend\\Lib\\site-packages\\scipy\\optimize\\_lsq\\least_squares.py:830\u001b[0m, in \u001b[0;36mleast_squares.<locals>.fun_wrapped\u001b[1;34m(x)\u001b[0m\n\u001b[0;32m    829\u001b[0m \u001b[38;5;28;01mdef\u001b[39;00m \u001b[38;5;21mfun_wrapped\u001b[39m(x):\n\u001b[1;32m--> 830\u001b[0m     \u001b[38;5;28;01mreturn\u001b[39;00m np\u001b[38;5;241m.\u001b[39matleast_1d(fun(x, \u001b[38;5;241m*\u001b[39margs, \u001b[38;5;241m*\u001b[39m\u001b[38;5;241m*\u001b[39mkwargs))\n",
      "File \u001b[1;32mc:\\Users\\carvj\\anaconda3\\envs\\rosetta_backend\\Lib\\site-packages\\lmfit\\minimizer.py:548\u001b[0m, in \u001b[0;36mMinimizer.__residual\u001b[1;34m(self, fvars, apply_bounds_transformation)\u001b[0m\n\u001b[0;32m    545\u001b[0m     \u001b[38;5;28mself\u001b[39m\u001b[38;5;241m.\u001b[39mresult\u001b[38;5;241m.\u001b[39msuccess \u001b[38;5;241m=\u001b[39m \u001b[38;5;28;01mFalse\u001b[39;00m\n\u001b[0;32m    546\u001b[0m     \u001b[38;5;28;01mraise\u001b[39;00m AbortFitException(\u001b[38;5;124mf\u001b[39m\u001b[38;5;124m\"\u001b[39m\u001b[38;5;124mfit aborted: too many function evaluations \u001b[39m\u001b[38;5;132;01m{\u001b[39;00m\u001b[38;5;28mself\u001b[39m\u001b[38;5;241m.\u001b[39mmax_nfev\u001b[38;5;132;01m}\u001b[39;00m\u001b[38;5;124m\"\u001b[39m)\n\u001b[1;32m--> 548\u001b[0m out \u001b[38;5;241m=\u001b[39m \u001b[38;5;28mself\u001b[39m\u001b[38;5;241m.\u001b[39muserfcn(params, \u001b[38;5;241m*\u001b[39m\u001b[38;5;28mself\u001b[39m\u001b[38;5;241m.\u001b[39muserargs, \u001b[38;5;241m*\u001b[39m\u001b[38;5;241m*\u001b[39m\u001b[38;5;28mself\u001b[39m\u001b[38;5;241m.\u001b[39muserkws)\n\u001b[0;32m    550\u001b[0m \u001b[38;5;28;01mif\u001b[39;00m \u001b[38;5;28mcallable\u001b[39m(\u001b[38;5;28mself\u001b[39m\u001b[38;5;241m.\u001b[39miter_cb):\n\u001b[0;32m    551\u001b[0m     abort \u001b[38;5;241m=\u001b[39m \u001b[38;5;28mself\u001b[39m\u001b[38;5;241m.\u001b[39miter_cb(params, \u001b[38;5;28mself\u001b[39m\u001b[38;5;241m.\u001b[39mresult\u001b[38;5;241m.\u001b[39mnfev, out,\n\u001b[0;32m    552\u001b[0m                          \u001b[38;5;241m*\u001b[39m\u001b[38;5;28mself\u001b[39m\u001b[38;5;241m.\u001b[39muserargs, \u001b[38;5;241m*\u001b[39m\u001b[38;5;241m*\u001b[39m\u001b[38;5;28mself\u001b[39m\u001b[38;5;241m.\u001b[39muserkws)\n",
      "File \u001b[1;32mc:\\Users\\carvj\\Downloads\\IMO\\my code\\fittingFuns.py:19\u001b[0m, in \u001b[0;36mresidual\u001b[1;34m(params, n)\u001b[0m\n\u001b[0;32m     16\u001b[0m \u001b[38;5;28;01mdef\u001b[39;00m \u001b[38;5;21mresidual\u001b[39m(params, n):\n\u001b[0;32m     17\u001b[0m     \u001b[38;5;66;03m#verbose = residual_kws.get('verbose', False)\u001b[39;00m\n\u001b[1;32m---> 19\u001b[0m     params \u001b[38;5;241m=\u001b[39m np\u001b[38;5;241m.\u001b[39mempty(n, \u001b[38;5;241m3\u001b[39m, dtype\u001b[38;5;241m=\u001b[39mnp\u001b[38;5;241m.\u001b[39mfloat16)\n\u001b[0;32m     20\u001b[0m     params[:][\u001b[38;5;241m0\u001b[39m] \u001b[38;5;241m=\u001b[39m sp\u001b[38;5;241m.\u001b[39mstats\u001b[38;5;241m.\u001b[39mlognorm\u001b[38;5;241m.\u001b[39mrvs(params\u001b[38;5;241m.\u001b[39mget(\u001b[38;5;124m'\u001b[39m\u001b[38;5;124mgDistr\u001b[39m\u001b[38;5;124m'\u001b[39m), scale\u001b[38;5;241m=\u001b[39mnp\u001b[38;5;241m.\u001b[39mlog(params\u001b[38;5;241m.\u001b[39mget(\u001b[38;5;124m'\u001b[39m\u001b[38;5;124mg\u001b[39m\u001b[38;5;124m'\u001b[39m), size\u001b[38;5;241m=\u001b[39mn))\n\u001b[0;32m     21\u001b[0m     params[:][\u001b[38;5;241m1\u001b[39m] \u001b[38;5;241m=\u001b[39m sp\u001b[38;5;241m.\u001b[39mstats\u001b[38;5;241m.\u001b[39mlognorm\u001b[38;5;241m.\u001b[39mrvs(params\u001b[38;5;241m.\u001b[39mget(\u001b[38;5;124m'\u001b[39m\u001b[38;5;124mdDistr\u001b[39m\u001b[38;5;124m'\u001b[39m), scale\u001b[38;5;241m=\u001b[39mnp\u001b[38;5;241m.\u001b[39mlog(params\u001b[38;5;241m.\u001b[39mget(\u001b[38;5;124m'\u001b[39m\u001b[38;5;124md\u001b[39m\u001b[38;5;124m'\u001b[39m), size\u001b[38;5;241m=\u001b[39mn))\n",
      "\u001b[1;31mTypeError\u001b[0m: argument for empty() given by name ('dtype') and position (position 1)"
     ]
    }
   ],
   "source": [
    "import fittingFuns\n",
    "\n",
    "optimiser_kws = {'method':'least_squares', 'xtol':1e-8, 'ftol':1e-8, 'max_nfev':200,}\n",
    "\n",
    "fit_obj = lmfit.minimize(fittingFuns.residual, vars.params, args=(vars.n,), **optimiser_kws)\n",
    "bestParams = fit_obj.params"
   ]
  },
  {
   "cell_type": "markdown",
   "id": "f86b05eb",
   "metadata": {},
   "source": [
    "### Graphing KMs"
   ]
  },
  {
   "cell_type": "code",
   "execution_count": 3,
   "id": "620e3630",
   "metadata": {},
   "outputs": [
    {
     "ename": "NameError",
     "evalue": "name 'params' is not defined",
     "output_type": "error",
     "traceback": [
      "\u001b[1;31m---------------------------------------------------------------------------\u001b[0m",
      "\u001b[1;31mNameError\u001b[0m                                 Traceback (most recent call last)",
      "Cell \u001b[1;32mIn[3], line 1\u001b[0m\n\u001b[1;32m----> 1\u001b[0m params[:][\u001b[38;5;241m0\u001b[39m] \u001b[38;5;241m=\u001b[39m sp\u001b[38;5;241m.\u001b[39mstats\u001b[38;5;241m.\u001b[39mlognorm\u001b[38;5;241m.\u001b[39mrvs(params\u001b[38;5;241m.\u001b[39mget(\u001b[38;5;124m'\u001b[39m\u001b[38;5;124mgDistr\u001b[39m\u001b[38;5;124m'\u001b[39m), scale\u001b[38;5;241m=\u001b[39mnp\u001b[38;5;241m.\u001b[39mlog(params\u001b[38;5;241m.\u001b[39mget(\u001b[38;5;124m'\u001b[39m\u001b[38;5;124mg\u001b[39m\u001b[38;5;124m'\u001b[39m), size\u001b[38;5;241m=\u001b[39mn))\n\u001b[0;32m      2\u001b[0m params[:][\u001b[38;5;241m1\u001b[39m] \u001b[38;5;241m=\u001b[39m sp\u001b[38;5;241m.\u001b[39mstats\u001b[38;5;241m.\u001b[39mlognorm\u001b[38;5;241m.\u001b[39mrvs(params\u001b[38;5;241m.\u001b[39mget(\u001b[38;5;124m'\u001b[39m\u001b[38;5;124mdDistr\u001b[39m\u001b[38;5;124m'\u001b[39m), scale\u001b[38;5;241m=\u001b[39mnp\u001b[38;5;241m.\u001b[39mlog(params\u001b[38;5;241m.\u001b[39mget(\u001b[38;5;124m'\u001b[39m\u001b[38;5;124md\u001b[39m\u001b[38;5;124m'\u001b[39m), size\u001b[38;5;241m=\u001b[39mn))\n\u001b[0;32m      3\u001b[0m params[:][\u001b[38;5;241m2\u001b[39m] \u001b[38;5;241m=\u001b[39m sp\u001b[38;5;241m.\u001b[39mstats\u001b[38;5;241m.\u001b[39mlognorm\u001b[38;5;241m.\u001b[39mrvs(params\u001b[38;5;241m.\u001b[39mget(\u001b[38;5;124m'\u001b[39m\u001b[38;5;124mrDistr\u001b[39m\u001b[38;5;124m'\u001b[39m), scale\u001b[38;5;241m=\u001b[39mnp\u001b[38;5;241m.\u001b[39mlog(params\u001b[38;5;241m.\u001b[39mget(\u001b[38;5;124m'\u001b[39m\u001b[38;5;124mr\u001b[39m\u001b[38;5;124m'\u001b[39m), size\u001b[38;5;241m=\u001b[39mn))\n",
      "\u001b[1;31mNameError\u001b[0m: name 'params' is not defined"
     ]
    }
   ],
   "source": [
    "bestKMpars = np.empty(vars.n, 3)\n",
    "\n",
    "bestKMpars[:, 0] = sp.stats.lognorm.rvs(bestParams.get('gDistr'), scale=np.exp(bestParams.get('g')), size=vars.n)\n",
    "bestKMpars[:, 1] = sp.stats.lognorm.rvs(bestParams.get('dDistr'), scale=np.exp(bestParams.get('d')), size=vars.n)\n",
    "bestKMpars[:, 2] = sp.stats.lognorm.rvs(bestParams.get('rDistr'), scale=np.exp(bestParams.get('r')), size=vars.n)s\n",
    "\n",
    "sizes = models.gdr(bestKMpars, True)\n",
    "sizes = dataFuns.transform(sizes)\n",
    "progs = dataFuns.findProgs(sizes)\n",
    "bestKM = dataFuns.makeKM(progs)"
   ]
  },
  {
   "cell_type": "code",
   "execution_count": 4,
   "id": "d4c74f80",
   "metadata": {},
   "outputs": [
    {
     "ename": "NameError",
     "evalue": "name 'plt' is not defined",
     "output_type": "error",
     "traceback": [
      "\u001b[1;31m---------------------------------------------------------------------------\u001b[0m",
      "\u001b[1;31mNameError\u001b[0m                                 Traceback (most recent call last)",
      "Cell \u001b[1;32mIn[4], line 1\u001b[0m\n\u001b[1;32m----> 1\u001b[0m plt\u001b[38;5;241m.\u001b[39mfigure(figsize\u001b[38;5;241m=\u001b[39m(\u001b[38;5;241m10\u001b[39m, \u001b[38;5;241m6\u001b[39m))\n\u001b[0;32m      4\u001b[0m \u001b[38;5;28;01mdef\u001b[39;00m \u001b[38;5;21mKMplot\u001b[39m(vector):\n\u001b[0;32m      5\u001b[0m     sns\u001b[38;5;241m.\u001b[39mlineplot(x\u001b[38;5;241m=\u001b[39mnp\u001b[38;5;241m.\u001b[39marange(\u001b[38;5;28mvars\u001b[39m\u001b[38;5;241m.\u001b[39mdays), y\u001b[38;5;241m=\u001b[39mvector)\n",
      "\u001b[1;31mNameError\u001b[0m: name 'plt' is not defined"
     ]
    }
   ],
   "source": [
    "plt.figure(figsize=(10, 6))\n",
    "\n",
    "plt.plot(range(vars.days), bestKM, color='blue', label='fit')\n",
    "plt.plot(range(vars.days), vars.ideal, color='red', label='ideal')\n",
    "\n",
    "plt.xlabel('days')\n",
    "plt.ylabel('pfs')\n",
    "plt.legend()\n",
    "\n",
    "plt.show()"
   ]
  }
 ],
 "metadata": {
  "kernelspec": {
   "display_name": "Python 3 (ipykernel)",
   "language": "python",
   "name": "python3"
  },
  "language_info": {
   "codemirror_mode": {
    "name": "ipython",
    "version": 3
   },
   "file_extension": ".py",
   "mimetype": "text/x-python",
   "name": "python",
   "nbconvert_exporter": "python",
   "pygments_lexer": "ipython3",
   "version": "3.11.7"
  }
 },
 "nbformat": 4,
 "nbformat_minor": 5
}
